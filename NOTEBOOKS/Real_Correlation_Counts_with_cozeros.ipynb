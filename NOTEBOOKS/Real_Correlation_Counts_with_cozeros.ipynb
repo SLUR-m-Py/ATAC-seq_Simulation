{
 "cells": [
  {
   "cell_type": "code",
   "execution_count": 2,
   "id": "56d53d50",
   "metadata": {},
   "outputs": [],
   "source": [
    "## Bring in needed mods\n",
    "import pandas as pd, numpy as np, sys, scipy.stats as ss, glob\n",
    "\n",
    "## Load in matplot lib\n",
    "from matplotlib import pyplot as plt\n",
    "\n",
    "## Bring in seaborn\n",
    "import seaborn as sns\n",
    "\n",
    "## Set random seed\n",
    "np.random.seed(711)"
   ]
  },
  {
   "cell_type": "code",
   "execution_count": 3,
   "id": "40a47af6",
   "metadata": {},
   "outputs": [],
   "source": [
    "## Load in sims\n",
    "import mystatslib_wcz as sims"
   ]
  },
  {
   "cell_type": "code",
   "execution_count": 4,
   "id": "80332162",
   "metadata": {},
   "outputs": [],
   "source": [
    "## Load in mod\n",
    "import epigenomevisulization as epv"
   ]
  },
  {
   "cell_type": "code",
   "execution_count": 5,
   "id": "112ecc1a",
   "metadata": {},
   "outputs": [],
   "source": [
    "## Set paths to dataframes \n",
    "## The A549 made by Dr. Vrinda Venu \n",
    "a549_path = '../DATA/BEDS/A549.Ceil.genomic.10000.counts.bed.gz'\n",
    "\n",
    "## Encode data\n",
    "enco_path = '../DATA/BEDS/ENCODE.Ceil.genomic.10000.counts.bed.gz'"
   ]
  },
  {
   "cell_type": "code",
   "execution_count": 6,
   "id": "7a7e66da",
   "metadata": {},
   "outputs": [
    {
     "data": {
      "text/html": [
       "<div>\n",
       "<style scoped>\n",
       "    .dataframe tbody tr th:only-of-type {\n",
       "        vertical-align: middle;\n",
       "    }\n",
       "\n",
       "    .dataframe tbody tr th {\n",
       "        vertical-align: top;\n",
       "    }\n",
       "\n",
       "    .dataframe thead th {\n",
       "        text-align: right;\n",
       "    }\n",
       "</style>\n",
       "<table border=\"1\" class=\"dataframe\">\n",
       "  <thead>\n",
       "    <tr style=\"text-align: right;\">\n",
       "      <th></th>\n",
       "      <th>Chrom</th>\n",
       "      <th>Left</th>\n",
       "      <th>Right</th>\n",
       "      <th>merged.ENCLB404SKN.filtq30.bam</th>\n",
       "      <th>merged.ENCLB324GIU.filtq30.bam</th>\n",
       "      <th>merged.ENCLB584REF.filtq30.bam</th>\n",
       "      <th>merged.ENCLB758GEG.filtq30.bam</th>\n",
       "      <th>merged.ENCLB605LCC.filtq30.bam</th>\n",
       "      <th>merged.ENCLB293SLX.filtq30.bam</th>\n",
       "      <th>merged.ENCLB907YRF.filtq30.bam</th>\n",
       "      <th>merged.ENCLB918NXF.filtq30.bam</th>\n",
       "      <th>merged.ENCLB817BKI.filtq30.bam</th>\n",
       "      <th>merged.ENCLB734LAL.filtq30.bam</th>\n",
       "      <th>merged.ENCLB432QLN.filtq30.bam</th>\n",
       "      <th>merged.ENCLB621FEI.filtq30.bam</th>\n",
       "      <th>merged.ENCLB074EQT.filtq30.bam</th>\n",
       "      <th>merged.ENCLB984XHJ.filtq30.bam</th>\n",
       "      <th>merged.ENCLB937FOM.filtq30.bam</th>\n",
       "      <th>merged.ENCLB715JYV.filtq30.bam</th>\n",
       "    </tr>\n",
       "  </thead>\n",
       "  <tbody>\n",
       "    <tr>\n",
       "      <th>0</th>\n",
       "      <td>chr1</td>\n",
       "      <td>1</td>\n",
       "      <td>10000</td>\n",
       "      <td>1.0</td>\n",
       "      <td>1.0</td>\n",
       "      <td>1.0</td>\n",
       "      <td>1.0</td>\n",
       "      <td>1.0</td>\n",
       "      <td>1.0</td>\n",
       "      <td>1.0</td>\n",
       "      <td>1.0</td>\n",
       "      <td>1.0</td>\n",
       "      <td>1.0</td>\n",
       "      <td>1.0</td>\n",
       "      <td>1.0</td>\n",
       "      <td>1.0</td>\n",
       "      <td>1.0</td>\n",
       "      <td>1.0</td>\n",
       "      <td>1.0</td>\n",
       "    </tr>\n",
       "    <tr>\n",
       "      <th>1</th>\n",
       "      <td>chr1</td>\n",
       "      <td>10001</td>\n",
       "      <td>20000</td>\n",
       "      <td>1.0</td>\n",
       "      <td>1.0</td>\n",
       "      <td>1.0</td>\n",
       "      <td>1.0</td>\n",
       "      <td>1.0</td>\n",
       "      <td>1.0</td>\n",
       "      <td>0.0</td>\n",
       "      <td>1.0</td>\n",
       "      <td>1.0</td>\n",
       "      <td>1.0</td>\n",
       "      <td>1.0</td>\n",
       "      <td>1.0</td>\n",
       "      <td>1.0</td>\n",
       "      <td>1.0</td>\n",
       "      <td>1.0</td>\n",
       "      <td>1.0</td>\n",
       "    </tr>\n",
       "    <tr>\n",
       "      <th>2</th>\n",
       "      <td>chr1</td>\n",
       "      <td>20001</td>\n",
       "      <td>30000</td>\n",
       "      <td>1.0</td>\n",
       "      <td>1.0</td>\n",
       "      <td>1.0</td>\n",
       "      <td>1.0</td>\n",
       "      <td>1.0</td>\n",
       "      <td>1.0</td>\n",
       "      <td>1.0</td>\n",
       "      <td>1.0</td>\n",
       "      <td>1.0</td>\n",
       "      <td>1.0</td>\n",
       "      <td>1.0</td>\n",
       "      <td>1.0</td>\n",
       "      <td>1.0</td>\n",
       "      <td>1.0</td>\n",
       "      <td>1.0</td>\n",
       "      <td>1.0</td>\n",
       "    </tr>\n",
       "    <tr>\n",
       "      <th>3</th>\n",
       "      <td>chr1</td>\n",
       "      <td>30001</td>\n",
       "      <td>40000</td>\n",
       "      <td>1.0</td>\n",
       "      <td>1.0</td>\n",
       "      <td>1.0</td>\n",
       "      <td>1.0</td>\n",
       "      <td>1.0</td>\n",
       "      <td>1.0</td>\n",
       "      <td>1.0</td>\n",
       "      <td>1.0</td>\n",
       "      <td>1.0</td>\n",
       "      <td>1.0</td>\n",
       "      <td>1.0</td>\n",
       "      <td>1.0</td>\n",
       "      <td>1.0</td>\n",
       "      <td>1.0</td>\n",
       "      <td>1.0</td>\n",
       "      <td>1.0</td>\n",
       "    </tr>\n",
       "    <tr>\n",
       "      <th>4</th>\n",
       "      <td>chr1</td>\n",
       "      <td>40001</td>\n",
       "      <td>50000</td>\n",
       "      <td>1.0</td>\n",
       "      <td>0.0</td>\n",
       "      <td>0.0</td>\n",
       "      <td>1.0</td>\n",
       "      <td>1.0</td>\n",
       "      <td>1.0</td>\n",
       "      <td>0.0</td>\n",
       "      <td>1.0</td>\n",
       "      <td>1.0</td>\n",
       "      <td>1.0</td>\n",
       "      <td>1.0</td>\n",
       "      <td>1.0</td>\n",
       "      <td>1.0</td>\n",
       "      <td>1.0</td>\n",
       "      <td>1.0</td>\n",
       "      <td>1.0</td>\n",
       "    </tr>\n",
       "  </tbody>\n",
       "</table>\n",
       "</div>"
      ],
      "text/plain": [
       "  Chrom   Left  Right  merged.ENCLB404SKN.filtq30.bam  \\\n",
       "0  chr1      1  10000                             1.0   \n",
       "1  chr1  10001  20000                             1.0   \n",
       "2  chr1  20001  30000                             1.0   \n",
       "3  chr1  30001  40000                             1.0   \n",
       "4  chr1  40001  50000                             1.0   \n",
       "\n",
       "   merged.ENCLB324GIU.filtq30.bam  merged.ENCLB584REF.filtq30.bam  \\\n",
       "0                             1.0                             1.0   \n",
       "1                             1.0                             1.0   \n",
       "2                             1.0                             1.0   \n",
       "3                             1.0                             1.0   \n",
       "4                             0.0                             0.0   \n",
       "\n",
       "   merged.ENCLB758GEG.filtq30.bam  merged.ENCLB605LCC.filtq30.bam  \\\n",
       "0                             1.0                             1.0   \n",
       "1                             1.0                             1.0   \n",
       "2                             1.0                             1.0   \n",
       "3                             1.0                             1.0   \n",
       "4                             1.0                             1.0   \n",
       "\n",
       "   merged.ENCLB293SLX.filtq30.bam  merged.ENCLB907YRF.filtq30.bam  \\\n",
       "0                             1.0                             1.0   \n",
       "1                             1.0                             0.0   \n",
       "2                             1.0                             1.0   \n",
       "3                             1.0                             1.0   \n",
       "4                             1.0                             0.0   \n",
       "\n",
       "   merged.ENCLB918NXF.filtq30.bam  merged.ENCLB817BKI.filtq30.bam  \\\n",
       "0                             1.0                             1.0   \n",
       "1                             1.0                             1.0   \n",
       "2                             1.0                             1.0   \n",
       "3                             1.0                             1.0   \n",
       "4                             1.0                             1.0   \n",
       "\n",
       "   merged.ENCLB734LAL.filtq30.bam  merged.ENCLB432QLN.filtq30.bam  \\\n",
       "0                             1.0                             1.0   \n",
       "1                             1.0                             1.0   \n",
       "2                             1.0                             1.0   \n",
       "3                             1.0                             1.0   \n",
       "4                             1.0                             1.0   \n",
       "\n",
       "   merged.ENCLB621FEI.filtq30.bam  merged.ENCLB074EQT.filtq30.bam  \\\n",
       "0                             1.0                             1.0   \n",
       "1                             1.0                             1.0   \n",
       "2                             1.0                             1.0   \n",
       "3                             1.0                             1.0   \n",
       "4                             1.0                             1.0   \n",
       "\n",
       "   merged.ENCLB984XHJ.filtq30.bam  merged.ENCLB937FOM.filtq30.bam  \\\n",
       "0                             1.0                             1.0   \n",
       "1                             1.0                             1.0   \n",
       "2                             1.0                             1.0   \n",
       "3                             1.0                             1.0   \n",
       "4                             1.0                             1.0   \n",
       "\n",
       "   merged.ENCLB715JYV.filtq30.bam  \n",
       "0                             1.0  \n",
       "1                             1.0  \n",
       "2                             1.0  \n",
       "3                             1.0  \n",
       "4                             1.0  "
      ]
     },
     "execution_count": 6,
     "metadata": {},
     "output_type": "execute_result"
    }
   ],
   "source": [
    "## Read in the a549 data\n",
    "enco = epv.loaddf(enco_path)\n",
    "\n",
    "## View head\n",
    "enco.head()"
   ]
  },
  {
   "cell_type": "code",
   "execution_count": 7,
   "id": "9de10536",
   "metadata": {},
   "outputs": [
    {
     "data": {
      "text/plain": [
       "(290066, 19)"
      ]
     },
     "execution_count": 7,
     "metadata": {},
     "output_type": "execute_result"
    }
   ],
   "source": [
    "## Print shape of enco df\n",
    "enco.shape"
   ]
  },
  {
   "cell_type": "code",
   "execution_count": 8,
   "id": "3a1af593",
   "metadata": {},
   "outputs": [
    {
     "data": {
      "text/html": [
       "<div>\n",
       "<style scoped>\n",
       "    .dataframe tbody tr th:only-of-type {\n",
       "        vertical-align: middle;\n",
       "    }\n",
       "\n",
       "    .dataframe tbody tr th {\n",
       "        vertical-align: top;\n",
       "    }\n",
       "\n",
       "    .dataframe thead th {\n",
       "        text-align: right;\n",
       "    }\n",
       "</style>\n",
       "<table border=\"1\" class=\"dataframe\">\n",
       "  <thead>\n",
       "    <tr style=\"text-align: right;\">\n",
       "      <th></th>\n",
       "      <th>Chrom</th>\n",
       "      <th>Left</th>\n",
       "      <th>Right</th>\n",
       "      <th>merged.2501_001.filtq30.bam</th>\n",
       "      <th>merged.2501_002.filtq30.bam</th>\n",
       "    </tr>\n",
       "  </thead>\n",
       "  <tbody>\n",
       "    <tr>\n",
       "      <th>0</th>\n",
       "      <td>chr1</td>\n",
       "      <td>1</td>\n",
       "      <td>10000</td>\n",
       "      <td>1.0</td>\n",
       "      <td>1.0</td>\n",
       "    </tr>\n",
       "    <tr>\n",
       "      <th>1</th>\n",
       "      <td>chr1</td>\n",
       "      <td>10001</td>\n",
       "      <td>20000</td>\n",
       "      <td>0.0</td>\n",
       "      <td>1.0</td>\n",
       "    </tr>\n",
       "    <tr>\n",
       "      <th>2</th>\n",
       "      <td>chr1</td>\n",
       "      <td>20001</td>\n",
       "      <td>30000</td>\n",
       "      <td>1.0</td>\n",
       "      <td>1.0</td>\n",
       "    </tr>\n",
       "    <tr>\n",
       "      <th>3</th>\n",
       "      <td>chr1</td>\n",
       "      <td>30001</td>\n",
       "      <td>40000</td>\n",
       "      <td>1.0</td>\n",
       "      <td>1.0</td>\n",
       "    </tr>\n",
       "    <tr>\n",
       "      <th>4</th>\n",
       "      <td>chr1</td>\n",
       "      <td>40001</td>\n",
       "      <td>50000</td>\n",
       "      <td>1.0</td>\n",
       "      <td>1.0</td>\n",
       "    </tr>\n",
       "  </tbody>\n",
       "</table>\n",
       "</div>"
      ],
      "text/plain": [
       "  Chrom   Left  Right merged.2501_001.filtq30.bam merged.2501_002.filtq30.bam\n",
       "0  chr1      1  10000                         1.0                         1.0\n",
       "1  chr1  10001  20000                         0.0                         1.0\n",
       "2  chr1  20001  30000                         1.0                         1.0\n",
       "3  chr1  30001  40000                         1.0                         1.0\n",
       "4  chr1  40001  50000                         1.0                         1.0"
      ]
     },
     "execution_count": 8,
     "metadata": {},
     "output_type": "execute_result"
    }
   ],
   "source": [
    "## Read in the a549 data\n",
    "a549 = epv.loaddf(a549_path)\n",
    "\n",
    "## View head\n",
    "a549.head().T.head().T"
   ]
  },
  {
   "cell_type": "code",
   "execution_count": 9,
   "id": "69696997",
   "metadata": {},
   "outputs": [
    {
     "data": {
      "text/plain": [
       "(290066, 11)"
      ]
     },
     "execution_count": 9,
     "metadata": {},
     "output_type": "execute_result"
    }
   ],
   "source": [
    "## print shape of a549 df \n",
    "a549.shape"
   ]
  },
  {
   "cell_type": "code",
   "execution_count": 10,
   "id": "74e08f13",
   "metadata": {},
   "outputs": [
    {
     "data": {
      "text/plain": [
       "['merged.2501_001.filtq30.bam',\n",
       " 'merged.2501_002.filtq30.bam',\n",
       " 'merged.2501_003.filtq30.bam',\n",
       " 'merged.2501_007.filtq30.bam',\n",
       " 'merged.2501_008.filtq30.bam',\n",
       " 'merged.2501_018.filtq30.bam',\n",
       " 'merged.2501_019.filtq30.bam',\n",
       " 'merged.2501_020.filtq30.bam']"
      ]
     },
     "execution_count": 10,
     "metadata": {},
     "output_type": "execute_result"
    }
   ],
   "source": [
    "## Gather the sample names\n",
    "a549_names = epv.getsamples(a549)\n",
    "\n",
    "## Print the sample names\n",
    "a549_names"
   ]
  },
  {
   "cell_type": "code",
   "execution_count": 11,
   "id": "570bb68d",
   "metadata": {},
   "outputs": [
    {
     "data": {
      "text/plain": [
       "['A549$_{100}$',\n",
       " 'A549$_{101}$',\n",
       " 'A549$_{102}$',\n",
       " 'A549$_{200}$',\n",
       " 'A549$_{201}$',\n",
       " 'A549$_{300}$',\n",
       " 'A549$_{301}$',\n",
       " 'A549$_{302}$']"
      ]
     },
     "execution_count": 11,
     "metadata": {},
     "output_type": "execute_result"
    }
   ],
   "source": [
    "short_script = ['A549$_{%s}$'%i for i in ['100','101','102','200','201','300','301','302']]\n",
    "short_script"
   ]
  },
  {
   "cell_type": "code",
   "execution_count": 12,
   "id": "bf69adc7",
   "metadata": {},
   "outputs": [
    {
     "data": {
      "text/plain": [
       "{'merged.2501_001.filtq30.bam': 'A549$_{100}$',\n",
       " 'merged.2501_002.filtq30.bam': 'A549$_{101}$',\n",
       " 'merged.2501_003.filtq30.bam': 'A549$_{102}$',\n",
       " 'merged.2501_007.filtq30.bam': 'A549$_{200}$',\n",
       " 'merged.2501_008.filtq30.bam': 'A549$_{201}$',\n",
       " 'merged.2501_018.filtq30.bam': 'A549$_{300}$',\n",
       " 'merged.2501_019.filtq30.bam': 'A549$_{301}$',\n",
       " 'merged.2501_020.filtq30.bam': 'A549$_{302}$'}"
      ]
     },
     "execution_count": 12,
     "metadata": {},
     "output_type": "execute_result"
    }
   ],
   "source": [
    "name_dict = dict(zip(a549_names,short_script))\n",
    "name_dict"
   ]
  },
  {
   "cell_type": "code",
   "execution_count": 13,
   "id": "6c420018",
   "metadata": {},
   "outputs": [],
   "source": [
    "a549_to_plot = np.array(a549_names)[[0,1,3,4,5,6]]"
   ]
  },
  {
   "cell_type": "code",
   "execution_count": 14,
   "id": "79bc6f36",
   "metadata": {},
   "outputs": [
    {
     "data": {
      "image/png": "[encoded data removed]",
      "text/plain": [
       "<Figure size 720x720 with 64 Axes>"
      ]
     },
     "metadata": {},
     "output_type": "display_data"
    }
   ],
   "source": [
    "fig,ax = plt.subplots(8,8,figsize=(10,10),sharex=True,sharey=True);\n",
    "fig.set_facecolor('w')\n",
    "\n",
    "pearsons = []\n",
    "\n",
    "for i,m1 in enumerate(a549_names):\n",
    "    \n",
    "    for j,m2 in enumerate(a549_names):\n",
    "        \n",
    "        if i > j:\n",
    "            \n",
    "            x = a549[m1].values\n",
    "            y = a549[m2].values\n",
    "            \n",
    "            r = sims.copearson(x,y)\n",
    "            \n",
    "            pearsons.append((m1,m2,r))\n",
    "            \n",
    "            plt.sca(ax[i,j])\n",
    "            plt.plot(x,y,'.',ms=2)\n",
    "            plt.xticks(np.arange(0,30,10),fontsize=12)\n",
    "            plt.yticks(np.arange(0,30,10),fontsize=12)\n",
    "            #plt.text(x=15,y=3,s='$R$ = %s'%(round(r,2)),va='center',ha='center')\n",
    "            plt.title('$R$ = %s'%(round(r,2)),y=0.7,fontsize=10)\n",
    "            \n",
    "        elif i == j:\n",
    "            \n",
    "            s = name_dict[m1]\n",
    "            plt.sca(ax[i,j])\n",
    "            plt.title(s,y=0.035,fontsize=14)\n",
    "            plt.axis('off')\n",
    "            \n",
    "        else:\n",
    "            plt.sca(ax[i,j]);plt.axis('off')\n",
    "            \n",
    "xlabel = 'Whole-Fragments per kb per Mil. (10 kb bins)'\n",
    "fig.text(x=0.25,y=0.05,s=xlabel,fontsize=14)\n",
    "fig.text(x=0.05,y=0.25,s=xlabel,fontsize=14,rotation=90);"
   ]
  },
  {
   "cell_type": "code",
   "execution_count": 15,
   "id": "1a30a5f5",
   "metadata": {},
   "outputs": [
    {
     "data": {
      "text/plain": [
       "0.9543852289059536"
      ]
     },
     "execution_count": 15,
     "metadata": {},
     "output_type": "execute_result"
    }
   ],
   "source": [
    "sims.copearson(x,y)"
   ]
  },
  {
   "cell_type": "code",
   "execution_count": 16,
   "id": "7527d09d",
   "metadata": {},
   "outputs": [
    {
     "data": {
      "text/plain": [
       "0.8950789386313126"
      ]
     },
     "execution_count": 16,
     "metadata": {},
     "output_type": "execute_result"
    }
   ],
   "source": [
    "pd.DataFrame(pearsons).loc[[0,1,2]][2].mean()"
   ]
  },
  {
   "cell_type": "code",
   "execution_count": 17,
   "id": "81376564",
   "metadata": {},
   "outputs": [
    {
     "data": {
      "text/plain": [
       "0.9149721500674177"
      ]
     },
     "execution_count": 17,
     "metadata": {},
     "output_type": "execute_result"
    }
   ],
   "source": [
    "pd.DataFrame(pearsons).loc[9,2]"
   ]
  },
  {
   "cell_type": "code",
   "execution_count": 18,
   "id": "bdce6a37",
   "metadata": {},
   "outputs": [
    {
     "data": {
      "text/plain": [
       "0.9537980788960945"
      ]
     },
     "execution_count": 18,
     "metadata": {},
     "output_type": "execute_result"
    }
   ],
   "source": [
    "pd.DataFrame(pearsons).loc[[20,26,27]][2].mean()"
   ]
  },
  {
   "cell_type": "code",
   "execution_count": 19,
   "id": "84ccf2b3",
   "metadata": {},
   "outputs": [
    {
     "data": {
      "text/plain": [
       "0.8014993244934195"
      ]
     },
     "execution_count": 19,
     "metadata": {},
     "output_type": "execute_result"
    }
   ],
   "source": [
    "sims.conmi(x,y)"
   ]
  },
  {
   "cell_type": "code",
   "execution_count": 20,
   "id": "a419c208",
   "metadata": {},
   "outputs": [],
   "source": [
    "def rotate(n,x):\n",
    "    x = list(x)\n",
    "    return np.array(x[n:] + x[:n])"
   ]
  },
  {
   "cell_type": "code",
   "execution_count": 21,
   "id": "e4d451d9",
   "metadata": {},
   "outputs": [],
   "source": [
    "## Set x and y\n",
    "x,y = a549[a549_names[-2]].values, a549[a549_names[-1]].values"
   ]
  },
  {
   "cell_type": "code",
   "execution_count": 22,
   "id": "aa16b7e0",
   "metadata": {},
   "outputs": [
    {
     "data": {
      "text/plain": [
       "(array([ 0.,  5., 10., 15., 20.]),\n",
       " [Text(0, 0, ''),\n",
       "  Text(0, 0, ''),\n",
       "  Text(0, 0, ''),\n",
       "  Text(0, 0, ''),\n",
       "  Text(0, 0, '')])"
      ]
     },
     "execution_count": 22,
     "metadata": {},
     "output_type": "execute_result"
    },
    {
     "data": {
      "image/png": "[encoded data removed]",
      "text/plain": [
       "<Figure size 576x504 with 2 Axes>"
      ]
     },
     "metadata": {},
     "output_type": "display_data"
    }
   ],
   "source": [
    "## Call figure and set facecolor\n",
    "fig,ax = plt.subplots(1,1,figsize=(8,7))\n",
    "fig.set_facecolor('w')\n",
    "\n",
    "## Plot a comet plot\n",
    "epv.cometplot(x,y,ax=ax,plotmod=40);\n",
    "\n",
    "## Add x and y label\n",
    "plt.xlabel('WFpkm Replicate 1',fontsize=12)\n",
    "plt.ylabel('WFpkm Replicate 2',fontsize=12)\n",
    "\n",
    "## increase fontsize\n",
    "plt.xticks(fontsize=12)\n",
    "plt.yticks(fontsize=12);\n",
    "\n",
    "## Save figure\n",
    "#plt.savefig('../FIGURES/S.Figure.1.png',dpi=300,bbox_inches='tight');"
   ]
  },
  {
   "cell_type": "code",
   "execution_count": 23,
   "id": "2fd67378",
   "metadata": {},
   "outputs": [
    {
     "name": "stdout",
     "output_type": "stream",
     "text": [
      "(290066, 27)\n"
     ]
    }
   ],
   "source": [
    "## Mege the dataframes\n",
    "sampledf = enco.merge(a549,on=['Chrom','Left','Right'])\n",
    "\n",
    "## Remove vrindas original samples\n",
    "#sampledf.drop(a549_names[:-3],inplace=True,axis=1)\n",
    "\n",
    "## View shape\n",
    "print(sampledf.shape)\n",
    "\n",
    "## Get all the sample names\n",
    "samples = epv.getsamples(sampledf)\n",
    "\n",
    "## Calculate if the samples with \"merged\" as the start of their name\n",
    "merge_check = sum([s.split('.')[0] == 'merged' for s in samples])\n",
    "\n",
    "## Check our work \n",
    "assert merge_check == len(samples), \"ERROR: There are samples we do not recognize in this list!\""
   ]
  },
  {
   "cell_type": "code",
   "execution_count": 24,
   "id": "7eaee81e",
   "metadata": {},
   "outputs": [
    {
     "data": {
      "text/html": [
       "<div>\n",
       "<style scoped>\n",
       "    .dataframe tbody tr th:only-of-type {\n",
       "        vertical-align: middle;\n",
       "    }\n",
       "\n",
       "    .dataframe tbody tr th {\n",
       "        vertical-align: top;\n",
       "    }\n",
       "\n",
       "    .dataframe thead th {\n",
       "        text-align: right;\n",
       "    }\n",
       "</style>\n",
       "<table border=\"1\" class=\"dataframe\">\n",
       "  <thead>\n",
       "    <tr style=\"text-align: right;\">\n",
       "      <th></th>\n",
       "      <th>Cell Line</th>\n",
       "      <th>Replicate Name</th>\n",
       "      <th>Total Reads</th>\n",
       "      <th>Mapped Reads</th>\n",
       "      <th>Not Used</th>\n",
       "      <th>Duplicates</th>\n",
       "      <th>mtDNA</th>\n",
       "      <th>Un-mapped</th>\n",
       "      <th>Low Quality Reads</th>\n",
       "      <th>MACS2 Peaks</th>\n",
       "      <th>FrIP</th>\n",
       "      <th>Sample Title</th>\n",
       "      <th>Source</th>\n",
       "      <th>Bam File</th>\n",
       "    </tr>\n",
       "  </thead>\n",
       "  <tbody>\n",
       "    <tr>\n",
       "      <th>0</th>\n",
       "      <td>A549</td>\n",
       "      <td>ENCLB404SKN</td>\n",
       "      <td>341325836</td>\n",
       "      <td>259029456</td>\n",
       "      <td>21246814</td>\n",
       "      <td>46948944</td>\n",
       "      <td>12009324</td>\n",
       "      <td>408486</td>\n",
       "      <td>1682812</td>\n",
       "      <td>201532</td>\n",
       "      <td>0.5898</td>\n",
       "      <td>A549$_{000}$</td>\n",
       "      <td>ENCSR032RGS</td>\n",
       "      <td>merged.ENCLB404SKN.filtq30.bam</td>\n",
       "    </tr>\n",
       "    <tr>\n",
       "      <th>1</th>\n",
       "      <td>A549</td>\n",
       "      <td>ENCLB605LCC</td>\n",
       "      <td>442074976</td>\n",
       "      <td>329679445</td>\n",
       "      <td>27536117</td>\n",
       "      <td>66338506</td>\n",
       "      <td>15475857</td>\n",
       "      <td>506856</td>\n",
       "      <td>2538195</td>\n",
       "      <td>194975</td>\n",
       "      <td>0.5994</td>\n",
       "      <td>A549$_{001}$</td>\n",
       "      <td>ENCSR032RGS</td>\n",
       "      <td>merged.ENCLB605LCC.filtq30.bam</td>\n",
       "    </tr>\n",
       "    <tr>\n",
       "      <th>2</th>\n",
       "      <td>A549</td>\n",
       "      <td>ENCLB817BKI</td>\n",
       "      <td>277970512</td>\n",
       "      <td>211291691</td>\n",
       "      <td>18456829</td>\n",
       "      <td>35323112</td>\n",
       "      <td>11170486</td>\n",
       "      <td>343051</td>\n",
       "      <td>1385343</td>\n",
       "      <td>206536</td>\n",
       "      <td>0.5596</td>\n",
       "      <td>A549$_{002}$</td>\n",
       "      <td>ENCSR032RGS</td>\n",
       "      <td>merged.ENCLB817BKI.filtq30.bam</td>\n",
       "    </tr>\n",
       "    <tr>\n",
       "      <th>3</th>\n",
       "      <td>A549</td>\n",
       "      <td>2501\\_001</td>\n",
       "      <td>65405524</td>\n",
       "      <td>23987725</td>\n",
       "      <td>2973344</td>\n",
       "      <td>3093813</td>\n",
       "      <td>33653170</td>\n",
       "      <td>48906</td>\n",
       "      <td>1648566</td>\n",
       "      <td>110323</td>\n",
       "      <td>0.5880</td>\n",
       "      <td>A549$_{100}$</td>\n",
       "      <td>This study</td>\n",
       "      <td>merged.2501_001.filtq30.bam</td>\n",
       "    </tr>\n",
       "    <tr>\n",
       "      <th>4</th>\n",
       "      <td>A549</td>\n",
       "      <td>2501\\_002</td>\n",
       "      <td>84816540</td>\n",
       "      <td>22605005</td>\n",
       "      <td>2595465</td>\n",
       "      <td>2481489</td>\n",
       "      <td>55231224</td>\n",
       "      <td>32350</td>\n",
       "      <td>1871007</td>\n",
       "      <td>81917</td>\n",
       "      <td>0.3404</td>\n",
       "      <td>A549$_{101}$</td>\n",
       "      <td>This study</td>\n",
       "      <td>merged.2501_002.filtq30.bam</td>\n",
       "    </tr>\n",
       "  </tbody>\n",
       "</table>\n",
       "</div>"
      ],
      "text/plain": [
       "  Cell Line Replicate Name  Total Reads  Mapped Reads  Not Used  Duplicates  \\\n",
       "0      A549    ENCLB404SKN    341325836     259029456  21246814    46948944   \n",
       "1      A549    ENCLB605LCC    442074976     329679445  27536117    66338506   \n",
       "2      A549    ENCLB817BKI    277970512     211291691  18456829    35323112   \n",
       "3      A549      2501\\_001     65405524      23987725   2973344     3093813   \n",
       "4      A549      2501\\_002     84816540      22605005   2595465     2481489   \n",
       "\n",
       "      mtDNA  Un-mapped  Low Quality Reads  MACS2 Peaks    FrIP  Sample Title  \\\n",
       "0  12009324     408486            1682812       201532  0.5898  A549$_{000}$   \n",
       "1  15475857     506856            2538195       194975  0.5994  A549$_{001}$   \n",
       "2  11170486     343051            1385343       206536  0.5596  A549$_{002}$   \n",
       "3  33653170      48906            1648566       110323  0.5880  A549$_{100}$   \n",
       "4  55231224      32350            1871007        81917  0.3404  A549$_{101}$   \n",
       "\n",
       "        Source                        Bam File  \n",
       "0  ENCSR032RGS  merged.ENCLB404SKN.filtq30.bam  \n",
       "1  ENCSR032RGS  merged.ENCLB605LCC.filtq30.bam  \n",
       "2  ENCSR032RGS  merged.ENCLB817BKI.filtq30.bam  \n",
       "3   This study     merged.2501_001.filtq30.bam  \n",
       "4   This study     merged.2501_002.filtq30.bam  "
      ]
     },
     "execution_count": 24,
     "metadata": {},
     "output_type": "execute_result"
    }
   ],
   "source": [
    "## Write ftn for formating the bam file name \n",
    "def bamname(s):\n",
    "    return 'merged.%s.filtq30.bam'%s\n",
    "\n",
    "## Set table path\n",
    "table_path = '../MISC/full.table.csv'\n",
    "\n",
    "## Load table\n",
    "full_table = pd.read_csv(table_path)\n",
    "\n",
    "## Make a \"bam file\" name\n",
    "bam_file_names = []\n",
    "\n",
    "## Iterate thru replicate names\n",
    "for s in full_table['Replicate Name'].tolist():\n",
    "    ## Seperate the replicate name if the underscore is present \n",
    "    if '_' in s:\n",
    "        new = bamname('_'.join(s.split('\\_')))\n",
    "    else: ## otherwise just pass the new name\n",
    "        new = bamname(s)\n",
    "    \n",
    "    ## append to list\n",
    "    bam_file_names.append(new)\n",
    "        \n",
    "## append column of new bam names\n",
    "full_table['Bam File'] = bam_file_names\n",
    "\n",
    "## Make a cellular type dictionary\n",
    "cell_dict = dict(full_table[['Bam File','Sample Title']].values)\n",
    "\n",
    "## Order the labels \n",
    "ordered_labels = full_table['Sample Title'].tolist()\n",
    "\n",
    "## View head\n",
    "full_table.head()"
   ]
  },
  {
   "cell_type": "code",
   "execution_count": 25,
   "id": "e5746eda",
   "metadata": {},
   "outputs": [
    {
     "data": {
      "text/html": [
       "<div>\n",
       "<style scoped>\n",
       "    .dataframe tbody tr th:only-of-type {\n",
       "        vertical-align: middle;\n",
       "    }\n",
       "\n",
       "    .dataframe tbody tr th {\n",
       "        vertical-align: top;\n",
       "    }\n",
       "\n",
       "    .dataframe thead th {\n",
       "        text-align: right;\n",
       "    }\n",
       "</style>\n",
       "<table border=\"1\" class=\"dataframe\">\n",
       "  <thead>\n",
       "    <tr style=\"text-align: right;\">\n",
       "      <th></th>\n",
       "      <th>A549$_{000}$</th>\n",
       "      <th>A549$_{001}$</th>\n",
       "      <th>A549$_{002}$</th>\n",
       "      <th>A549$_{100}$</th>\n",
       "      <th>A549$_{101}$</th>\n",
       "    </tr>\n",
       "  </thead>\n",
       "  <tbody>\n",
       "    <tr>\n",
       "      <th>A549$_{000}$</th>\n",
       "      <td>1.000000</td>\n",
       "      <td>0.798904</td>\n",
       "      <td>0.787061</td>\n",
       "      <td>0.638928</td>\n",
       "      <td>0.653432</td>\n",
       "    </tr>\n",
       "    <tr>\n",
       "      <th>A549$_{001}$</th>\n",
       "      <td>0.798904</td>\n",
       "      <td>1.000000</td>\n",
       "      <td>0.766570</td>\n",
       "      <td>0.627763</td>\n",
       "      <td>0.636574</td>\n",
       "    </tr>\n",
       "    <tr>\n",
       "      <th>A549$_{002}$</th>\n",
       "      <td>0.787061</td>\n",
       "      <td>0.766570</td>\n",
       "      <td>1.000000</td>\n",
       "      <td>0.634301</td>\n",
       "      <td>0.654435</td>\n",
       "    </tr>\n",
       "    <tr>\n",
       "      <th>A549$_{100}$</th>\n",
       "      <td>0.638928</td>\n",
       "      <td>0.627763</td>\n",
       "      <td>0.634301</td>\n",
       "      <td>1.000000</td>\n",
       "      <td>0.697339</td>\n",
       "    </tr>\n",
       "    <tr>\n",
       "      <th>A549$_{101}$</th>\n",
       "      <td>0.653432</td>\n",
       "      <td>0.636574</td>\n",
       "      <td>0.654435</td>\n",
       "      <td>0.697339</td>\n",
       "      <td>1.000000</td>\n",
       "    </tr>\n",
       "  </tbody>\n",
       "</table>\n",
       "</div>"
      ],
      "text/plain": [
       "              A549$_{000}$  A549$_{001}$  A549$_{002}$  A549$_{100}$  \\\n",
       "A549$_{000}$      1.000000      0.798904      0.787061      0.638928   \n",
       "A549$_{001}$      0.798904      1.000000      0.766570      0.627763   \n",
       "A549$_{002}$      0.787061      0.766570      1.000000      0.634301   \n",
       "A549$_{100}$      0.638928      0.627763      0.634301      1.000000   \n",
       "A549$_{101}$      0.653432      0.636574      0.654435      0.697339   \n",
       "\n",
       "              A549$_{101}$  \n",
       "A549$_{000}$      0.653432  \n",
       "A549$_{001}$      0.636574  \n",
       "A549$_{002}$      0.654435  \n",
       "A549$_{100}$      0.697339  \n",
       "A549$_{101}$      1.000000  "
      ]
     },
     "execution_count": 25,
     "metadata": {},
     "output_type": "execute_result"
    }
   ],
   "source": [
    "## Correlate the samples vis norm. mutual. info. removing cozeros\n",
    "nmi = sampledf[samples].corr(sims.conmi)\n",
    "\n",
    "## Replace the columns and index\n",
    "nmi.columns, nmi.index = [cell_dict[c] for c in nmi.columns], [cell_dict[c] for c in nmi.index]\n",
    "\n",
    "## Reorder the lables \n",
    "nmi = nmi.loc[ordered_labels,ordered_labels]\n",
    "\n",
    "\n",
    "## View the corner\n",
    "nmi.head().T.head()"
   ]
  },
  {
   "cell_type": "code",
   "execution_count": 26,
   "id": "8a2112e3",
   "metadata": {},
   "outputs": [],
   "source": [
    "## Savout out\n",
    "nmi.to_csv('../MISC/ENCODE_nmi_wcz.csv',index=True,header=True)"
   ]
  },
  {
   "cell_type": "code",
   "execution_count": 27,
   "id": "3a838ef7",
   "metadata": {},
   "outputs": [
    {
     "data": {
      "text/html": [
       "<div>\n",
       "<style scoped>\n",
       "    .dataframe tbody tr th:only-of-type {\n",
       "        vertical-align: middle;\n",
       "    }\n",
       "\n",
       "    .dataframe tbody tr th {\n",
       "        vertical-align: top;\n",
       "    }\n",
       "\n",
       "    .dataframe thead th {\n",
       "        text-align: right;\n",
       "    }\n",
       "</style>\n",
       "<table border=\"1\" class=\"dataframe\">\n",
       "  <thead>\n",
       "    <tr style=\"text-align: right;\">\n",
       "      <th></th>\n",
       "      <th>A549$_{000}$</th>\n",
       "      <th>A549$_{001}$</th>\n",
       "      <th>A549$_{002}$</th>\n",
       "      <th>A549$_{100}$</th>\n",
       "      <th>A549$_{101}$</th>\n",
       "    </tr>\n",
       "  </thead>\n",
       "  <tbody>\n",
       "    <tr>\n",
       "      <th>A549$_{000}$</th>\n",
       "      <td>1.000000</td>\n",
       "      <td>0.932060</td>\n",
       "      <td>0.924616</td>\n",
       "      <td>0.823503</td>\n",
       "      <td>0.827718</td>\n",
       "    </tr>\n",
       "    <tr>\n",
       "      <th>A549$_{001}$</th>\n",
       "      <td>0.932060</td>\n",
       "      <td>1.000000</td>\n",
       "      <td>0.914832</td>\n",
       "      <td>0.818560</td>\n",
       "      <td>0.816342</td>\n",
       "    </tr>\n",
       "    <tr>\n",
       "      <th>A549$_{002}$</th>\n",
       "      <td>0.924616</td>\n",
       "      <td>0.914832</td>\n",
       "      <td>1.000000</td>\n",
       "      <td>0.819706</td>\n",
       "      <td>0.833356</td>\n",
       "    </tr>\n",
       "    <tr>\n",
       "      <th>A549$_{100}$</th>\n",
       "      <td>0.823503</td>\n",
       "      <td>0.818560</td>\n",
       "      <td>0.819706</td>\n",
       "      <td>1.000000</td>\n",
       "      <td>0.874431</td>\n",
       "    </tr>\n",
       "    <tr>\n",
       "      <th>A549$_{101}$</th>\n",
       "      <td>0.827718</td>\n",
       "      <td>0.816342</td>\n",
       "      <td>0.833356</td>\n",
       "      <td>0.874431</td>\n",
       "      <td>1.000000</td>\n",
       "    </tr>\n",
       "  </tbody>\n",
       "</table>\n",
       "</div>"
      ],
      "text/plain": [
       "              A549$_{000}$  A549$_{001}$  A549$_{002}$  A549$_{100}$  \\\n",
       "A549$_{000}$      1.000000      0.932060      0.924616      0.823503   \n",
       "A549$_{001}$      0.932060      1.000000      0.914832      0.818560   \n",
       "A549$_{002}$      0.924616      0.914832      1.000000      0.819706   \n",
       "A549$_{100}$      0.823503      0.818560      0.819706      1.000000   \n",
       "A549$_{101}$      0.827718      0.816342      0.833356      0.874431   \n",
       "\n",
       "              A549$_{101}$  \n",
       "A549$_{000}$      0.827718  \n",
       "A549$_{001}$      0.816342  \n",
       "A549$_{002}$      0.833356  \n",
       "A549$_{100}$      0.874431  \n",
       "A549$_{101}$      1.000000  "
      ]
     },
     "execution_count": 27,
     "metadata": {},
     "output_type": "execute_result"
    }
   ],
   "source": [
    "## Correlate the samples vis pearson removing cozeros\n",
    "per = sampledf[samples].corr(sims.copearson)\n",
    "\n",
    "## Replace the columns and index\n",
    "per.columns, per.index = [cell_dict[c] for c in per.columns], [cell_dict[c] for c in per.index]\n",
    "\n",
    "## Reorder the lables \n",
    "per = per.loc[ordered_labels,ordered_labels]\n",
    "\n",
    "## View the head\n",
    "per.head().T.head()"
   ]
  },
  {
   "cell_type": "code",
   "execution_count": 29,
   "id": "e8ff3b96",
   "metadata": {},
   "outputs": [],
   "source": [
    "## save out pearson\n",
    "per.to_csv('../MISC/ENCODE_per_wcz.csv')"
   ]
  },
  {
   "cell_type": "code",
   "execution_count": 30,
   "id": "80a908ae",
   "metadata": {},
   "outputs": [
    {
     "data": {
      "text/html": [
       "<div>\n",
       "<style scoped>\n",
       "    .dataframe tbody tr th:only-of-type {\n",
       "        vertical-align: middle;\n",
       "    }\n",
       "\n",
       "    .dataframe tbody tr th {\n",
       "        vertical-align: top;\n",
       "    }\n",
       "\n",
       "    .dataframe thead th {\n",
       "        text-align: right;\n",
       "    }\n",
       "</style>\n",
       "<table border=\"1\" class=\"dataframe\">\n",
       "  <thead>\n",
       "    <tr style=\"text-align: right;\">\n",
       "      <th></th>\n",
       "      <th>A549$_{000}$</th>\n",
       "      <th>A549$_{001}$</th>\n",
       "      <th>A549$_{002}$</th>\n",
       "      <th>A549$_{100}$</th>\n",
       "      <th>A549$_{101}$</th>\n",
       "    </tr>\n",
       "  </thead>\n",
       "  <tbody>\n",
       "    <tr>\n",
       "      <th>A549$_{000}$</th>\n",
       "      <td>1.000000</td>\n",
       "      <td>0.916204</td>\n",
       "      <td>0.909996</td>\n",
       "      <td>0.837090</td>\n",
       "      <td>0.835295</td>\n",
       "    </tr>\n",
       "    <tr>\n",
       "      <th>A549$_{001}$</th>\n",
       "      <td>0.916204</td>\n",
       "      <td>1.000000</td>\n",
       "      <td>0.900371</td>\n",
       "      <td>0.830012</td>\n",
       "      <td>0.822855</td>\n",
       "    </tr>\n",
       "    <tr>\n",
       "      <th>A549$_{002}$</th>\n",
       "      <td>0.909996</td>\n",
       "      <td>0.900371</td>\n",
       "      <td>1.000000</td>\n",
       "      <td>0.831261</td>\n",
       "      <td>0.836007</td>\n",
       "    </tr>\n",
       "    <tr>\n",
       "      <th>A549$_{100}$</th>\n",
       "      <td>0.837090</td>\n",
       "      <td>0.830012</td>\n",
       "      <td>0.831261</td>\n",
       "      <td>1.000000</td>\n",
       "      <td>0.850886</td>\n",
       "    </tr>\n",
       "    <tr>\n",
       "      <th>A549$_{101}$</th>\n",
       "      <td>0.835295</td>\n",
       "      <td>0.822855</td>\n",
       "      <td>0.836007</td>\n",
       "      <td>0.850886</td>\n",
       "      <td>1.000000</td>\n",
       "    </tr>\n",
       "  </tbody>\n",
       "</table>\n",
       "</div>"
      ],
      "text/plain": [
       "              A549$_{000}$  A549$_{001}$  A549$_{002}$  A549$_{100}$  \\\n",
       "A549$_{000}$      1.000000      0.916204      0.909996      0.837090   \n",
       "A549$_{001}$      0.916204      1.000000      0.900371      0.830012   \n",
       "A549$_{002}$      0.909996      0.900371      1.000000      0.831261   \n",
       "A549$_{100}$      0.837090      0.830012      0.831261      1.000000   \n",
       "A549$_{101}$      0.835295      0.822855      0.836007      0.850886   \n",
       "\n",
       "              A549$_{101}$  \n",
       "A549$_{000}$      0.835295  \n",
       "A549$_{001}$      0.822855  \n",
       "A549$_{002}$      0.836007  \n",
       "A549$_{100}$      0.850886  \n",
       "A549$_{101}$      1.000000  "
      ]
     },
     "execution_count": 30,
     "metadata": {},
     "output_type": "execute_result"
    }
   ],
   "source": [
    "## Correlate the samples vis pearson removing cozeros\n",
    "spe = sampledf[samples].corr(sims.cospearman)\n",
    "\n",
    "## Replace the columns and index\n",
    "spe.columns, spe.index = [cell_dict[c] for c in spe.columns], [cell_dict[c] for c in spe.index]\n",
    "\n",
    "## Reorder the lables \n",
    "spe = spe.loc[ordered_labels,ordered_labels]\n",
    "\n",
    "## View the head\n",
    "spe.head().T.head()"
   ]
  },
  {
   "cell_type": "code",
   "execution_count": 31,
   "id": "bf3fb984",
   "metadata": {},
   "outputs": [],
   "source": [
    "## Save out spe data\n",
    "spe.to_csv('../MISC/ENCODE_spe_wcz.csv')"
   ]
  },
  {
   "cell_type": "code",
   "execution_count": 32,
   "id": "50157825",
   "metadata": {},
   "outputs": [
    {
     "data": {
      "text/html": [
       "<div>\n",
       "<style scoped>\n",
       "    .dataframe tbody tr th:only-of-type {\n",
       "        vertical-align: middle;\n",
       "    }\n",
       "\n",
       "    .dataframe tbody tr th {\n",
       "        vertical-align: top;\n",
       "    }\n",
       "\n",
       "    .dataframe thead th {\n",
       "        text-align: right;\n",
       "    }\n",
       "</style>\n",
       "<table border=\"1\" class=\"dataframe\">\n",
       "  <thead>\n",
       "    <tr style=\"text-align: right;\">\n",
       "      <th></th>\n",
       "      <th>A549$_{000}$</th>\n",
       "      <th>A549$_{001}$</th>\n",
       "      <th>A549$_{002}$</th>\n",
       "      <th>A549$_{100}$</th>\n",
       "      <th>A549$_{101}$</th>\n",
       "    </tr>\n",
       "  </thead>\n",
       "  <tbody>\n",
       "    <tr>\n",
       "      <th>A549$_{000}$</th>\n",
       "      <td>1.000000</td>\n",
       "      <td>0.868735</td>\n",
       "      <td>0.854916</td>\n",
       "      <td>0.678157</td>\n",
       "      <td>0.685117</td>\n",
       "    </tr>\n",
       "    <tr>\n",
       "      <th>A549$_{001}$</th>\n",
       "      <td>0.868735</td>\n",
       "      <td>1.000000</td>\n",
       "      <td>0.836918</td>\n",
       "      <td>0.670041</td>\n",
       "      <td>0.666414</td>\n",
       "    </tr>\n",
       "    <tr>\n",
       "      <th>A549$_{002}$</th>\n",
       "      <td>0.854916</td>\n",
       "      <td>0.836918</td>\n",
       "      <td>1.000000</td>\n",
       "      <td>0.671917</td>\n",
       "      <td>0.694482</td>\n",
       "    </tr>\n",
       "    <tr>\n",
       "      <th>A549$_{100}$</th>\n",
       "      <td>0.678157</td>\n",
       "      <td>0.670041</td>\n",
       "      <td>0.671917</td>\n",
       "      <td>1.000000</td>\n",
       "      <td>0.764630</td>\n",
       "    </tr>\n",
       "    <tr>\n",
       "      <th>A549$_{101}$</th>\n",
       "      <td>0.685117</td>\n",
       "      <td>0.666414</td>\n",
       "      <td>0.694482</td>\n",
       "      <td>0.764630</td>\n",
       "      <td>1.000000</td>\n",
       "    </tr>\n",
       "  </tbody>\n",
       "</table>\n",
       "</div>"
      ],
      "text/plain": [
       "              A549$_{000}$  A549$_{001}$  A549$_{002}$  A549$_{100}$  \\\n",
       "A549$_{000}$      1.000000      0.868735      0.854916      0.678157   \n",
       "A549$_{001}$      0.868735      1.000000      0.836918      0.670041   \n",
       "A549$_{002}$      0.854916      0.836918      1.000000      0.671917   \n",
       "A549$_{100}$      0.678157      0.670041      0.671917      1.000000   \n",
       "A549$_{101}$      0.685117      0.666414      0.694482      0.764630   \n",
       "\n",
       "              A549$_{101}$  \n",
       "A549$_{000}$      0.685117  \n",
       "A549$_{001}$      0.666414  \n",
       "A549$_{002}$      0.694482  \n",
       "A549$_{100}$      0.764630  \n",
       "A549$_{101}$      1.000000  "
      ]
     },
     "execution_count": 32,
     "metadata": {},
     "output_type": "execute_result"
    }
   ],
   "source": [
    "## Correlate the samples vis norm. mutual. info. removing cozeros\n",
    "rsq = sampledf[samples].corr(sims.copearson)**2\n",
    "\n",
    "## Replace the columns and index\n",
    "rsq.columns, rsq.index = [cell_dict[c] for c in rsq.columns], [cell_dict[c] for c in rsq.index]\n",
    "\n",
    "## Reorder the lables \n",
    "rsq = rsq.loc[ordered_labels,ordered_labels]\n",
    "\n",
    "## View the head\n",
    "rsq.head().T.head()"
   ]
  },
  {
   "cell_type": "code",
   "execution_count": 33,
   "id": "dbe90715",
   "metadata": {},
   "outputs": [],
   "source": [
    "## Saveout rsq\n",
    "rsq.to_csv('../MISC/ENCODE_rsq_wcz.csv')"
   ]
  },
  {
   "cell_type": "code",
   "execution_count": 28,
   "id": "1bd84917",
   "metadata": {},
   "outputs": [
    {
     "name": "stdout",
     "output_type": "stream",
     "text": [
      "Pearson $R$\n",
      "Spearman ρ\n",
      "$R^2$\n",
      "Normalized Mutual Information\n"
     ]
    }
   ],
   "source": [
    "## Set the stat lables\n",
    "stat_labels = ['Pearson $R$','Spearman '+ '\\u03C1','$R^2$','Normalized Mutual Information']\n",
    "\n",
    "## print to screen\n",
    "[print(s) for s in stat_labels];"
   ]
  },
  {
   "cell_type": "code",
   "execution_count": 29,
   "id": "229519c9",
   "metadata": {},
   "outputs": [
    {
     "data": {
      "image/png": "[encoded data removed]",
      "text/plain": [
       "<Figure size 1152x1152 with 5 Axes>"
      ]
     },
     "metadata": {},
     "output_type": "display_data"
    }
   ],
   "source": [
    "## Call a figure, and set the face color\n",
    "fig,ax = plt.subplots(2,2,figsize=(16,16),sharex=True,sharey=True)\n",
    "fig.set_facecolor('w')\n",
    "\n",
    "## Make a list of the comparisons, set the color map, and make a color bar axis\n",
    "mycomps, mycmap, cax = [per,spe,rsq,nmi], \"YlGnBu_r\",  fig.add_axes([0.93,0.4,0.01,0.2])\n",
    "\n",
    "## Iterate thru the list\n",
    "for i,df in enumerate(mycomps):\n",
    "\n",
    "    ## Set the first axis\n",
    "    plt.sca(ax.ravel()[i])\n",
    "    \n",
    "    ## Set the title\n",
    "    plt.title(stat_labels[i],fontsize=16)\n",
    "\n",
    "    ## Call the pearson\n",
    "    sns.heatmap(df,vmin=0,vmax=1,cbar=False if i < 3 else True, cbar_ax=cax,cmap=mycmap)\n",
    "    \n",
    "## Set the color bar axis\n",
    "plt.sca(cax);plt.yticks(fontsize=14); #plt.ylabel('Statistic Value',fontsize=14)\n",
    "\n",
    "## Adjust the plots\n",
    "plt.subplots_adjust(wspace=0.1,hspace=0.1);\n",
    "\n",
    "## Add x and y lables\n",
    "fig.text(0.5,0.045,'ATAC-seq Samples',fontsize=16,va='center',ha='center')\n",
    "fig.text(0.045,0.5,'ATAC-seq Samples',fontsize=16,va='center',ha='center',rotation=90)\n",
    "\n",
    "## Add color bar label manually\n",
    "fig.text(0.92,0.5,'Statistic Value',fontsize=16,va='center',ha='center',rotation=90);"
   ]
  }
 ],
 "metadata": {
  "kernelspec": {
   "display_name": "Python 3",
   "language": "python",
   "name": "python3"
  },
  "language_info": {
   "codemirror_mode": {
    "name": "ipython",
    "version": 3
   },
   "file_extension": ".py",
   "mimetype": "text/x-python",
   "name": "python",
   "nbconvert_exporter": "python",
   "pygments_lexer": "ipython3",
   "version": "3.8.8"
  }
 },
 "nbformat": 4,
 "nbformat_minor": 5
}
